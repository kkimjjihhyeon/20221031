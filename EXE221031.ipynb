{
  "nbformat": 4,
  "nbformat_minor": 0,
  "metadata": {
    "colab": {
      "provenance": [],
      "authorship_tag": "ABX9TyO+/e540rSn37p04c5+Tonf",
      "include_colab_link": true
    },
    "kernelspec": {
      "name": "python3",
      "display_name": "Python 3"
    },
    "language_info": {
      "name": "python"
    }
  },
  "cells": [
    {
      "cell_type": "markdown",
      "metadata": {
        "id": "view-in-github",
        "colab_type": "text"
      },
      "source": [
        "<a href=\"https://colab.research.google.com/github/kkimjjihhyeon/20221031/blob/main/EXE221031.ipynb\" target=\"_parent\"><img src=\"https://colab.research.google.com/assets/colab-badge.svg\" alt=\"Open In Colab\"/></a>"
      ]
    },
    {
      "cell_type": "code",
      "execution_count": 9,
      "metadata": {
        "colab": {
          "base_uri": "https://localhost:8080/"
        },
        "id": "xzIEsruA5pN5",
        "outputId": "28bb90e5-f2d3-4357-f89e-8e6f22056975"
      },
      "outputs": [
        {
          "output_type": "stream",
          "name": "stdout",
          "text": [
            "x의 값을 입력하시오.: 10\n",
            "y의 값을 입력하시오.: 20\n",
            "x와 y의 합은:  22\n",
            "x와 y의 차는:  -18\n",
            "x와 y의 곱은:  40\n",
            "x와 y의 합은:  12.0\n",
            "x와 y의 큰수는:  20\n",
            "x와 y의 작은수:  2\n"
          ]
        }
      ],
      "source": [
        "x + int(input(\"x의 값을 입력하시오.: \"))\n",
        "y = int(input(\"y의 값을 입력하시오.: \"))\n",
        "\n",
        "print(\"x와 y의 합은: \", x + y)\n",
        "print(\"x와 y의 차는: \", x - y)\n",
        "print(\"x와 y의 곱은: \",x * y)\n",
        "print(\"x와 y의 합은: \",(x + y/2))\n",
        "print(\"x와 y의 큰수는: \",max(x,y))\n",
        "print(\"x와 y의 작은수: \",min(x,y))\n"
      ]
    },
    {
      "cell_type": "code",
      "execution_count": 10,
      "metadata": {
        "colab": {
          "base_uri": "https://localhost:8080/"
        },
        "id": "rDCxWwi01fx3",
        "outputId": "70ef7a56-ecbf-4feb-8bb6-38007aa22636"
      },
      "outputs": [
        {
          "output_type": "stream",
          "name": "stdout",
          "text": [
            "r값을 입력하시오: 10\n",
            "h값을 입력하시오: 100\n",
            "원기둥의 부피는:  31415.92 입니다.\n"
          ]
        }
      ],
      "source": [
        "r = float(input(\"r값을 입력하시오: \")) #변수 r의 값을 사용자로부터 받는다. float형으로\n",
        "h = float(input(\"h값을 입력하시오: \")) #변수 h의 값을 사용자로부터 받는다. float형으로\n",
        "vol = 3.141592 * r**2 * h\n",
        "print(\"원기둥의 부피는: \", vol, \"입니다.\")"
      ]
    },
    {
      "cell_type": "code",
      "execution_count": 12,
      "metadata": {
        "colab": {
          "base_uri": "https://localhost:8080/"
        },
        "id": "IxPt8BP618pf",
        "outputId": "efa6b81e-8c17-4dd4-e08a-ddc9a8fae616"
      },
      "outputs": [
        {
          "output_type": "stream",
          "name": "stdout",
          "text": [
            "정수를 입력하시오. : 12345\n",
            "자리수의 합:  14\n"
          ]
        }
      ],
      "source": [
        "number = int(input(\"정수를 입력하시오. : \"))\n",
        "sum = 0                  # 변수 sum을 초기화 0으로 한다.\n",
        "sum = sum + number % 10\n",
        "number = number // 10\n",
        "sum = sum + number % 10\n",
        "number = number // 10\n",
        "sum = sum + number % 10\n",
        "number = number // 10\n",
        "sum = sum + number % 10\n",
        "number = number // 10\n",
        "print(\"자리수의 합: \", str(sum))"
      ]
    },
    {
      "cell_type": "code",
      "source": [
        "x1 = int(input(\"x1의 값: \"))\n",
        "y1 = int(input(\"y1의 값: \"))\n",
        "\n",
        "x2 = int(input(\"x2의 값: \"))\n",
        "y2 = int(input(\"y2의 값: \"))\n",
        "dist = ((x2-x1)**2 + (y2-y1)**2)**0.5\n",
        "print(\"두점 사이의 거리=\", dist, \"입니다.\")"
      ],
      "metadata": {
        "colab": {
          "base_uri": "https://localhost:8080/"
        },
        "id": "QDKFHLyL77LS",
        "outputId": "bfe15a37-d15e-44c4-a656-ef378eb642c0"
      },
      "execution_count": 13,
      "outputs": [
        {
          "output_type": "stream",
          "name": "stdout",
          "text": [
            "x1의 값: 0\n",
            "y1의 값: 0\n",
            "x2의 값: 100\n",
            "y2의 값: 100\n",
            "두점 사이의 거리= 141.4213562373095 입니다.\n"
          ]
        }
      ]
    },
    {
      "cell_type": "code",
      "source": [
        "import time\n",
        "fsecond=time.time()\n",
        "total_sec = int(fsecond)\n",
        "total_min = total_sec / 60\n",
        "minute = total_min % 60\n",
        "total_hour = total_min // 60\n",
        "hour = total_hour % 24\n",
        "\n",
        "print(\"현재 시각은 (영국 그리니치 표준시각): \", str(hour) + \"시\"+ str(minute) + \"분\")"
      ],
      "metadata": {
        "colab": {
          "base_uri": "https://localhost:8080/"
        },
        "id": "EGuwe_83CX8x",
        "outputId": "2ed94ff4-a292-45ea-97fb-57a9dce17103"
      },
      "execution_count": 14,
      "outputs": [
        {
          "output_type": "stream",
          "name": "stdout",
          "text": [
            "현재 시각은 (영국 그리니치 표준시각):  3.0시46.44999999925494분\n"
          ]
        }
      ]
    },
    {
      "cell_type": "code",
      "source": [],
      "metadata": {
        "id": "x8-dkaokLBDe"
      },
      "execution_count": null,
      "outputs": []
    }
  ]
}